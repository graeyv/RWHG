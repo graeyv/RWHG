{
 "cells": [
  {
   "cell_type": "markdown",
   "id": "c0d44f38",
   "metadata": {},
   "source": [
    "## Example: Pre-Compute Weight Matrices\n",
    "\n",
    "This Notebook shows how to create the weight matrices for the councillor and affair graph using approaches I and II.\n",
    "\n",
    "\n",
    "Of course, one can also write an entire end-to-end pipeline instead doing this separate pre-computation step.\n",
    "\n",
    "\n",
    "Just as for the Gower weights, in this example we compute Weight matrices for 49th period.\n",
    "\n",
    "Again (as a disclaimer), when one is interested in doing CV across periods or feed-forward CV, the computation of weight matrices should be adapted accordingly to avoid leakage. "
   ]
  },
  {
   "cell_type": "markdown",
   "id": "5b3f0818",
   "metadata": {},
   "source": [
    "### Import Modules"
   ]
  },
  {
   "cell_type": "code",
   "execution_count": 1,
   "id": "5da287b0",
   "metadata": {},
   "outputs": [],
   "source": [
    "import sys\n",
    "import os\n",
    "import pandas as pd\n",
    "\n",
    "sys.path.append(os.path.abspath(os.path.join(os.getcwd(), '..', 'src')))\n",
    "from data_loading import load_data\n",
    "from create_weight_matrices import cospon_weight_matrix, weighted_gower_similarity, tfidf_weight_matrix,contextual_embedding_weight_matrix"
   ]
  },
  {
   "cell_type": "markdown",
   "id": "2b5b8144",
   "metadata": {},
   "source": [
    "### Create Weight Matrices for 49th Period"
   ]
  },
  {
   "cell_type": "code",
   "execution_count": null,
   "id": "6bd10e8c",
   "metadata": {},
   "outputs": [],
   "source": [
    "# load main data\n",
    "period = [49]\n",
    "votes, affairs, councillors = load_data(period)\n",
    "\n",
    "# load corresponding gower weights (for W(x) with Approach II)\n",
    "gower_weights = pd.read_csv(f'../data/clean/gower_weights_{period[0]}.csv', index_col=0).squeeze()\n",
    "\n",
    "# Define features\n",
    "feature_cols = [\n",
    "    'degree_class', \n",
    "    'profession_class', \n",
    "    'gender',\n",
    "    'average_age', \n",
    "    'lang_region', \n",
    "    'military_rank_ordinal', \n",
    "    'faction_ordinal'\n",
    "]\n",
    "\n",
    "# mappings\n",
    "ordered_c_ids = sorted(set(councillors['elanId']))\n",
    "ordered_a_ids = sorted(set(affairs['id']))\n",
    "\n",
    "c_id2idx = {id_: i for i, id_ in enumerate(ordered_c_ids)}\n",
    "a_id2idx = {id_: i for i, id_ in enumerate(ordered_a_ids)}\n",
    "\n",
    "# compute weight matrices\n",
    "\n",
    "# Approach I\n",
    "W_x1 = cospon_weight_matrix(c_id2idx, affairs, councillors)\n",
    "W_x2 = weighted_gower_similarity(councillors, feature_cols, gower_weights)\n",
    "\n",
    "# Approach II\n",
    "W_y1 = tfidf_weight_matrix(affairs, ordered_a_ids)\n",
    "W_y2 = contextual_embedding_weight_matrix(affairs, ordered_a_ids)\n",
    "\n",
    "# save output\n",
    "output_dir = '../data/weight_matrices'\n",
    "pd.DataFrame(W_x1).to_csv(os.path.join(output_dir, f'W_x1_{period[0]}.csv'), index=False)\n",
    "pd.DataFrame(W_x2).to_csv(os.path.join(output_dir, f'W_x2_{period[0]}.csv'), index=False)\n",
    "pd.DataFrame(W_y1).to_csv(os.path.join(output_dir, f'W_y1_{period[0]}.csv'), index=False)\n",
    "pd.DataFrame(W_y2).to_csv(os.path.join(output_dir, f'W_y2_{period[0]}.csv'), index=False)"
   ]
  }
 ],
 "metadata": {
  "kernelspec": {
   "display_name": "spacy-env",
   "language": "python",
   "name": "python3"
  },
  "language_info": {
   "codemirror_mode": {
    "name": "ipython",
    "version": 3
   },
   "file_extension": ".py",
   "mimetype": "text/x-python",
   "name": "python",
   "nbconvert_exporter": "python",
   "pygments_lexer": "ipython3",
   "version": "3.11.11"
  }
 },
 "nbformat": 4,
 "nbformat_minor": 5
}
