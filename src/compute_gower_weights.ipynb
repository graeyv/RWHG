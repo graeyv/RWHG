{
 "cells": [
  {
   "cell_type": "code",
   "execution_count": null,
   "id": "a8f9daf2",
   "metadata": {},
   "outputs": [],
   "source": [
    "from data_loading import load_data\n",
    "from helpers import get_gower_weights\n",
    "import pandas as pd\n",
    "from concurrent.futures import ThreadPoolExecutor\n",
    "\n",
    "# --- 1) Per Period Gower Weights --- #\n",
    "\n",
    "# load data\n",
    "periods = [49,50,51,52]\n",
    "votes, affairs, councillors = load_data(periods)\n",
    "target = pd.read_csv('../data/clean/cospon_count_agg.csv')\n",
    "\n",
    "# Define your features\n",
    "features = [\n",
    "    'degree_class', \n",
    "    'profession_class', \n",
    "    'gender',\n",
    "    'average_age', \n",
    "    'lang_region', \n",
    "    'military_rank_ordinal', \n",
    "    'faction_ordinal'\n",
    "]\n",
    "\n",
    "models = ['logistic', 'poisson', 'randomForestReg', 'randomForestClass']\n",
    "results = {}\n",
    "\n",
    "def run_model(model):\n",
    "    try:\n",
    "        result = get_gower_weights(councillors, features, target, model=model,s=0.3)\n",
    "        return model, result\n",
    "    except Exception as e:\n",
    "        return model, f\"ERROR: {str(e)}\"\n",
    "\n",
    "with ThreadPoolExecutor() as executor:\n",
    "    futures = [executor.submit(run_model, m) for m in models]\n",
    "    for f in futures:\n",
    "        model, weights = f.result()\n",
    "        results[model] = weights\n",
    "\n",
    "# Display results\n",
    "for model, weights in results.items():\n",
    "    print(f\"\\nModel: {model}\")\n",
    "    print(weights)\n",
    "\n",
    "# Save results to CSV\n",
    "for model, weights in results.items():\n",
    "    if isinstance(weights, pd.Series):\n",
    "        weights.to_csv(f'weights_{model}.csv', index=True)\n",
    "    else:\n",
    "        print(f\"Skipping saving weights for model '{model}' due to error: {weights}\")\n"
   ]
  },
  {
   "cell_type": "code",
   "execution_count": 1,
   "id": "6065b0e1",
   "metadata": {},
   "outputs": [
    {
     "name": "stderr",
     "output_type": "stream",
     "text": [
      "c:\\Users\\ygrae\\anaconda3\\envs\\spacy-env\\Lib\\site-packages\\numpy\\_core\\fromnumeric.py:57: FutureWarning: 'DataFrame.swapaxes' is deprecated and will be removed in a future version. Please use 'DataFrame.transpose' instead.\n",
      "  return bound(*args, **kwds)\n"
     ]
    },
    {
     "name": "stdout",
     "output_type": "stream",
     "text": [
      "iteration 1 out of 4\n",
      "iteration 2 out of 4\n",
      "iteration 3 out of 4\n",
      "iteration 4 out of 4\n"
     ]
    }
   ],
   "source": [
    "from data_loading import load_data\n",
    "from helpers import get_gower_weights\n",
    "import pandas as pd\n",
    "import numpy as np\n",
    "\n",
    "# --- 2) Intra Period Gower Weights --- #\n",
    "\n",
    "# load data\n",
    "periods = [51]\n",
    "votes, affairs, councillors = load_data(periods)\n",
    "target = pd.read_csv('../data/clean/cospon_count_intra_period.csv')\n",
    "\n",
    "# Define your features\n",
    "features = [\n",
    "    'degree_class', \n",
    "    'profession_class', \n",
    "    'gender',\n",
    "    'average_age', \n",
    "    'lang_region', \n",
    "    'military_rank_ordinal', \n",
    "    'faction_ordinal'\n",
    "]\n",
    "\n",
    "# create k splits of sorted data\n",
    "k = 5\n",
    "votes = votes.sort_values('date_clean')\n",
    "splits = np.array_split(votes, k)\n",
    "\n",
    "# Create cumulative combinations of splits\n",
    "cumulative_splits = []\n",
    "\n",
    "for i in range(2, k + 1):  # start from 2 to get split1+2, up to split1+2+...+k\n",
    "    combined = pd.concat(splits[:i])\n",
    "    cumulative_splits.append(combined)\n",
    "\n",
    "# compute gower weights for each split\n",
    "for i, split in enumerate(cumulative_splits): \n",
    "    print(f'iteration {i+1} out of {len(cumulative_splits)}')\n",
    "    # filter councillors\n",
    "    councillors_filt = councillors[councillors['elanId'].isin(pd.unique(split['elanId']))]\n",
    "    # filter target\n",
    "    leg_period = f'{periods[0]}_{i+1}'\n",
    "    target_filt = target[target['legislative_period'] == leg_period]\n",
    "    # compute gower weights\n",
    "    result = get_gower_weights(councillors_filt, features, target_filt, 'randomForestReg', s=0.25)\n",
    "    # save\n",
    "    result.to_csv(f'../data/clean/gower_weights/oom_tuning/gower_weights_{leg_period}.csv')"
   ]
  }
 ],
 "metadata": {
  "kernelspec": {
   "display_name": "spacy-env",
   "language": "python",
   "name": "python3"
  },
  "language_info": {
   "codemirror_mode": {
    "name": "ipython",
    "version": 3
   },
   "file_extension": ".py",
   "mimetype": "text/x-python",
   "name": "python",
   "nbconvert_exporter": "python",
   "pygments_lexer": "ipython3",
   "version": "3.11.11"
  }
 },
 "nbformat": 4,
 "nbformat_minor": 5
}
